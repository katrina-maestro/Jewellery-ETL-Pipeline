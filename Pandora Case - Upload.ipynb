{
 "cells": [
  {
   "cell_type": "markdown",
   "id": "672c0eba",
   "metadata": {},
   "source": [
    "# Pandora Technical Solution"
   ]
  },
  {
   "cell_type": "code",
   "execution_count": 86,
   "id": "2870c33b",
   "metadata": {},
   "outputs": [],
   "source": [
    "#Libraries \n",
    "import pandas as pd #useful for working with dataframes \n",
    "from datetime import datetime # used for formating date datatypes \n",
    "from sqlalchemy import create_engine #used to create engines that connect to sqlalchemy\n",
    "from sqlalchemy import exc # used to access the exception functions in sqlalchemy\n"
   ]
  },
  {
   "cell_type": "markdown",
   "id": "79feeea1",
   "metadata": {},
   "source": [
    "## Setup "
   ]
  },
  {
   "cell_type": "code",
   "execution_count": 61,
   "id": "372e8c74",
   "metadata": {},
   "outputs": [],
   "source": [
    "#Tracking \n",
    "\n",
    "#files \n",
    "logfile = \"logfile.txt\"   # all event logs will be stored in this file\n",
    "\n",
    "\n",
    "def logging_message (Message):\n",
    "    timestamp= datetime.now().strftime(\"%d-%m-%Y-%H:%M:%S\")#strftime method is used to convert the now timestamp into our desired format\n",
    "    with open(\"logfile.txt\",\"a\") as f:\n",
    "        f.write( Message +\" \" + timestamp+ '\\n')\n",
    "    \n",
    "    "
   ]
  },
  {
   "cell_type": "code",
   "execution_count": 62,
   "id": "1a8a343d",
   "metadata": {},
   "outputs": [],
   "source": [
    "logging_message(\"Katrina Handling ETL Pipeline for Sales Department\")"
   ]
  },
  {
   "cell_type": "markdown",
   "id": "8eda2df0",
   "metadata": {},
   "source": [
    "## Data Extraction"
   ]
  },
  {
   "cell_type": "code",
   "execution_count": 63,
   "id": "73d11e03",
   "metadata": {},
   "outputs": [],
   "source": [
    "logging_message(\"Data Extraction Phase Began at \")"
   ]
  },
  {
   "cell_type": "code",
   "execution_count": 79,
   "id": "37a475f2",
   "metadata": {},
   "outputs": [],
   "source": [
    "dataset = pd.read_csv(r\"C:\\Users\\katri\\OneDrive\\Desktop\\Data practice\\Pandora Case\\Jewellery Customer Segmentation Analysis Personas.csv\")"
   ]
  },
  {
   "cell_type": "markdown",
   "id": "21d74c55",
   "metadata": {},
   "source": [
    "## Data Transformation"
   ]
  },
  {
   "cell_type": "code",
   "execution_count": 65,
   "id": "b7bd6856",
   "metadata": {},
   "outputs": [],
   "source": [
    "logging_message(\"Data Transformation Phase Began at \")"
   ]
  },
  {
   "cell_type": "code",
   "execution_count": 80,
   "id": "27d82c08",
   "metadata": {},
   "outputs": [
    {
     "data": {
      "text/html": [
       "<div>\n",
       "<style scoped>\n",
       "    .dataframe tbody tr th:only-of-type {\n",
       "        vertical-align: middle;\n",
       "    }\n",
       "\n",
       "    .dataframe tbody tr th {\n",
       "        vertical-align: top;\n",
       "    }\n",
       "\n",
       "    .dataframe thead th {\n",
       "        text-align: right;\n",
       "    }\n",
       "</style>\n",
       "<table border=\"1\" class=\"dataframe\">\n",
       "  <thead>\n",
       "    <tr style=\"text-align: right;\">\n",
       "      <th></th>\n",
       "      <th>CustomerID</th>\n",
       "      <th>Age</th>\n",
       "      <th>Gender</th>\n",
       "      <th>Location</th>\n",
       "      <th>ProductType</th>\n",
       "      <th>PurchaseCount</th>\n",
       "      <th>TotalSpend</th>\n",
       "      <th>AveragePurchaseValue</th>\n",
       "      <th>EngagementScore</th>\n",
       "      <th>FollowDuration</th>\n",
       "      <th>...</th>\n",
       "      <th>IsActive</th>\n",
       "      <th>MarketingSpend</th>\n",
       "      <th>ProductCost</th>\n",
       "      <th>SalesRevenue</th>\n",
       "      <th>CustomerAcquisitionDate</th>\n",
       "      <th>CustomerExitDate</th>\n",
       "      <th>CustomerRetentionPeriod</th>\n",
       "      <th>CPA</th>\n",
       "      <th>NumberOfTransactions</th>\n",
       "      <th>CompletionRate</th>\n",
       "    </tr>\n",
       "  </thead>\n",
       "  <tbody>\n",
       "    <tr>\n",
       "      <th>0</th>\n",
       "      <td>1</td>\n",
       "      <td>56</td>\n",
       "      <td>Male</td>\n",
       "      <td>North America</td>\n",
       "      <td>Bracelet</td>\n",
       "      <td>9</td>\n",
       "      <td>737</td>\n",
       "      <td>81.888889</td>\n",
       "      <td>2.079020</td>\n",
       "      <td>24</td>\n",
       "      <td>...</td>\n",
       "      <td>True</td>\n",
       "      <td>85.052053</td>\n",
       "      <td>368.5</td>\n",
       "      <td>737</td>\n",
       "      <td>22/07/2020</td>\n",
       "      <td>NaN</td>\n",
       "      <td>24.300000</td>\n",
       "      <td>85.052053</td>\n",
       "      <td>9</td>\n",
       "      <td>0.6</td>\n",
       "    </tr>\n",
       "    <tr>\n",
       "      <th>1</th>\n",
       "      <td>2</td>\n",
       "      <td>46</td>\n",
       "      <td>Female</td>\n",
       "      <td>Middle East</td>\n",
       "      <td>Ring</td>\n",
       "      <td>3</td>\n",
       "      <td>334</td>\n",
       "      <td>111.333333</td>\n",
       "      <td>7.614333</td>\n",
       "      <td>18</td>\n",
       "      <td>...</td>\n",
       "      <td>True</td>\n",
       "      <td>87.253327</td>\n",
       "      <td>167.0</td>\n",
       "      <td>334</td>\n",
       "      <td>23/06/2021</td>\n",
       "      <td>NaN</td>\n",
       "      <td>24.200000</td>\n",
       "      <td>87.253327</td>\n",
       "      <td>3</td>\n",
       "      <td>0.6</td>\n",
       "    </tr>\n",
       "    <tr>\n",
       "      <th>2</th>\n",
       "      <td>3</td>\n",
       "      <td>32</td>\n",
       "      <td>Male</td>\n",
       "      <td>Asia</td>\n",
       "      <td>Ring</td>\n",
       "      <td>1</td>\n",
       "      <td>515</td>\n",
       "      <td>515.000000</td>\n",
       "      <td>5.783094</td>\n",
       "      <td>10</td>\n",
       "      <td>...</td>\n",
       "      <td>True</td>\n",
       "      <td>56.871368</td>\n",
       "      <td>257.5</td>\n",
       "      <td>515</td>\n",
       "      <td>29/08/2021</td>\n",
       "      <td>NaN</td>\n",
       "      <td>16.466667</td>\n",
       "      <td>56.871368</td>\n",
       "      <td>1</td>\n",
       "      <td>0.6</td>\n",
       "    </tr>\n",
       "    <tr>\n",
       "      <th>3</th>\n",
       "      <td>4</td>\n",
       "      <td>60</td>\n",
       "      <td>Other</td>\n",
       "      <td>North America</td>\n",
       "      <td>Bracelet</td>\n",
       "      <td>7</td>\n",
       "      <td>1037</td>\n",
       "      <td>148.142857</td>\n",
       "      <td>3.591508</td>\n",
       "      <td>7</td>\n",
       "      <td>...</td>\n",
       "      <td>True</td>\n",
       "      <td>86.957420</td>\n",
       "      <td>518.5</td>\n",
       "      <td>1037</td>\n",
       "      <td>27/05/2022</td>\n",
       "      <td>NaN</td>\n",
       "      <td>1.966667</td>\n",
       "      <td>86.957420</td>\n",
       "      <td>7</td>\n",
       "      <td>0.6</td>\n",
       "    </tr>\n",
       "    <tr>\n",
       "      <th>4</th>\n",
       "      <td>5</td>\n",
       "      <td>25</td>\n",
       "      <td>Male</td>\n",
       "      <td>Europe</td>\n",
       "      <td>Ring</td>\n",
       "      <td>5</td>\n",
       "      <td>598</td>\n",
       "      <td>119.600000</td>\n",
       "      <td>5.435376</td>\n",
       "      <td>8</td>\n",
       "      <td>...</td>\n",
       "      <td>False</td>\n",
       "      <td>96.423852</td>\n",
       "      <td>299.0</td>\n",
       "      <td>598</td>\n",
       "      <td>24/04/2022</td>\n",
       "      <td>27/05/2023</td>\n",
       "      <td>1.900000</td>\n",
       "      <td>96.423852</td>\n",
       "      <td>5</td>\n",
       "      <td>0.6</td>\n",
       "    </tr>\n",
       "  </tbody>\n",
       "</table>\n",
       "<p>5 rows × 40 columns</p>\n",
       "</div>"
      ],
      "text/plain": [
       "   CustomerID  Age  Gender       Location ProductType  PurchaseCount  \\\n",
       "0           1   56    Male  North America    Bracelet              9   \n",
       "1           2   46  Female    Middle East        Ring              3   \n",
       "2           3   32    Male           Asia        Ring              1   \n",
       "3           4   60   Other  North America    Bracelet              7   \n",
       "4           5   25    Male         Europe        Ring              5   \n",
       "\n",
       "   TotalSpend  AveragePurchaseValue  EngagementScore  FollowDuration  ...  \\\n",
       "0         737             81.888889         2.079020              24  ...   \n",
       "1         334            111.333333         7.614333              18  ...   \n",
       "2         515            515.000000         5.783094              10  ...   \n",
       "3        1037            148.142857         3.591508               7  ...   \n",
       "4         598            119.600000         5.435376               8  ...   \n",
       "\n",
       "  IsActive  MarketingSpend  ProductCost  SalesRevenue  \\\n",
       "0     True       85.052053        368.5           737   \n",
       "1     True       87.253327        167.0           334   \n",
       "2     True       56.871368        257.5           515   \n",
       "3     True       86.957420        518.5          1037   \n",
       "4    False       96.423852        299.0           598   \n",
       "\n",
       "   CustomerAcquisitionDate  CustomerExitDate  CustomerRetentionPeriod  \\\n",
       "0               22/07/2020               NaN                24.300000   \n",
       "1               23/06/2021               NaN                24.200000   \n",
       "2               29/08/2021               NaN                16.466667   \n",
       "3               27/05/2022               NaN                 1.966667   \n",
       "4               24/04/2022        27/05/2023                 1.900000   \n",
       "\n",
       "         CPA  NumberOfTransactions  CompletionRate  \n",
       "0  85.052053                     9             0.6  \n",
       "1  87.253327                     3             0.6  \n",
       "2  56.871368                     1             0.6  \n",
       "3  86.957420                     7             0.6  \n",
       "4  96.423852                     5             0.6  \n",
       "\n",
       "[5 rows x 40 columns]"
      ]
     },
     "execution_count": 80,
     "metadata": {},
     "output_type": "execute_result"
    }
   ],
   "source": [
    "dataset.head()"
   ]
  },
  {
   "cell_type": "code",
   "execution_count": 81,
   "id": "a0b5db66",
   "metadata": {},
   "outputs": [],
   "source": [
    "#dropping unnecessary columns \n",
    "cleaned_dataset= dataset.drop(columns = [\"EngagementScore\",\"FollowDuration\",\"IsActive\",\"MarketingSpend\",\"PreferredChannel\",\"CustomerAcquisitionDate\",\"CustomerCost\",\"CPA\",\"CustomerExitDate\",\"CustomerRetentionPeriod\",\"CLTV\",\"CustomerAcquisitionDate\",\"CustomerProfitabilityScore\", \"ROAS\",\"RFMScore\",\"AverageRFM\",\"Persona\"])"
   ]
  },
  {
   "cell_type": "code",
   "execution_count": 82,
   "id": "5559f5e3",
   "metadata": {
    "scrolled": true
   },
   "outputs": [
    {
     "data": {
      "text/plain": [
       "CustomerID                 int64\n",
       "Age                        int64\n",
       "Gender                    object\n",
       "Location                  object\n",
       "ProductType               object\n",
       "PurchaseCount              int64\n",
       "TotalSpend                 int64\n",
       "AveragePurchaseValue     float64\n",
       "ROI                      float64\n",
       "OperatingExpenses        float64\n",
       "AdditionalCosts          float64\n",
       "GrossProfit              float64\n",
       "GrossProfitMargin          int64\n",
       "OperatingProfit          float64\n",
       "OperatingProfitMargin      int64\n",
       "NetProfit                float64\n",
       "NetProfitMargin            int64\n",
       "LastPurchaseDate          object\n",
       "SubscriptionStartDate     object\n",
       "SubscriptionEndDate       object\n",
       "ProductCost              float64\n",
       "SalesRevenue               int64\n",
       "NumberOfTransactions       int64\n",
       "CompletionRate           float64\n",
       "dtype: object"
      ]
     },
     "execution_count": 82,
     "metadata": {},
     "output_type": "execute_result"
    }
   ],
   "source": [
    "#checking if the data has the right datatype \n",
    "cleaned_dataset.dtypes"
   ]
  },
  {
   "cell_type": "code",
   "execution_count": 83,
   "id": "3128a9bd",
   "metadata": {},
   "outputs": [
    {
     "name": "stdout",
     "output_type": "stream",
     "text": [
      "Empty DataFrame\n",
      "Columns: []\n",
      "Index: []\n"
     ]
    },
    {
     "name": "stderr",
     "output_type": "stream",
     "text": [
      "C:\\Users\\katri\\AppData\\Local\\Temp\\ipykernel_23548\\617110998.py:3: UserWarning: Boolean Series key will be reindexed to match DataFrame index.\n",
      "  duplicate_rows = df[cleaned_dataset.duplicated()]\n"
     ]
    }
   ],
   "source": [
    "# Finding duplicate rows based on all columns\n",
    "df = pd.DataFrame()\n",
    "duplicate_rows = df[cleaned_dataset.duplicated()]\n",
    "print(duplicate_rows)"
   ]
  },
  {
   "cell_type": "code",
   "execution_count": 84,
   "id": "cd22b52e",
   "metadata": {},
   "outputs": [
    {
     "name": "stdout",
     "output_type": "stream",
     "text": [
      "Empty DataFrame\n",
      "Columns: []\n",
      "Index: []\n"
     ]
    },
    {
     "name": "stderr",
     "output_type": "stream",
     "text": [
      "C:\\Users\\katri\\AppData\\Local\\Temp\\ipykernel_23548\\3891871350.py:2: UserWarning: Boolean Series key will be reindexed to match DataFrame index.\n",
      "  null_rows = df[cleaned_dataset.isnull().any(axis=0)]\n"
     ]
    }
   ],
   "source": [
    "# Finding rows with any null values\n",
    "null_rows = df[cleaned_dataset.isnull().any(axis=0)]\n",
    "print(null_rows)"
   ]
  },
  {
   "cell_type": "markdown",
   "id": "1ef6df6d",
   "metadata": {},
   "source": [
    "## Data Loading"
   ]
  },
  {
   "cell_type": "code",
   "execution_count": 70,
   "id": "331d0c27",
   "metadata": {},
   "outputs": [],
   "source": [
    "logging_message(\"Data Loading Phase Began at \")"
   ]
  },
  {
   "cell_type": "code",
   "execution_count": 85,
   "id": "35366768",
   "metadata": {},
   "outputs": [
    {
     "name": "stdout",
     "output_type": "stream",
     "text": [
      "Data successfully uploaded to MySQL!\n"
     ]
    }
   ],
   "source": [
    "# MySQL connection string\n",
    "username = 'rxxt'\n",
    "password = 'xxxxxxxxxxxx'\n",
    "host = 'localhost'\n",
    "database = 'customer_segments'\n",
    "\n",
    "try:\n",
    "    # Creating the SQLAlchemy engine\n",
    "    engine = create_engine(f\"mysql+pymysql://{username}:{password}@{host}/{database}\")\n",
    "    \n",
    "    # Testing the connection by trying to connect to the database\n",
    "    connection = engine.connect()\n",
    "\n",
    "    # Writing the cleaned DataFrame to a MySQL table\n",
    "    cleaned_dataset.to_sql('cleaned_dataset', con=engine, if_exists='replace', index=False)\n",
    "\n",
    "    print(\"Data successfully uploaded to MySQL!\")\n",
    "\n",
    "    # Closing the connection after the operation\n",
    "    connection.close()\n",
    "    \n",
    "except exc.SQLAlchemyError as e:\n",
    "    \n",
    "    # Handling SQLAlchemy errors such as connection issues or SQL execution failures\n",
    "    print(f\"An error occurred while connecting to the database or uploading data: {e}\")\n",
    "    logging_message(f\"Database error occurred: {e}\")\n"
   ]
  },
  {
   "cell_type": "code",
   "execution_count": 72,
   "id": "e30c49da",
   "metadata": {},
   "outputs": [],
   "source": [
    "logging_message(\"ETL Pipeline Completed at \")"
   ]
  },
  {
   "cell_type": "markdown",
   "id": "63401f74",
   "metadata": {},
   "source": [
    "## Resources "
   ]
  },
  {
   "cell_type": "code",
   "execution_count": 59,
   "id": "46317da2",
   "metadata": {},
   "outputs": [
    {
     "data": {
      "text/plain": [
       "'\\nreferences for library syntaxes\\n\\nSQL Alchemy \\nhttps://docs.sqlalchemy.org/en/20/\\n    \\nPandas\\nhttps://pandas.pydata.org/docs/reference/frame.html\\n\\nDatetime\\nhttps://docs.python.org/3/library/datetime.html#\\n\\n'"
      ]
     },
     "execution_count": 59,
     "metadata": {},
     "output_type": "execute_result"
    }
   ],
   "source": [
    "'''\n",
    "references for library syntaxes\n",
    "\n",
    "SQL Alchemy \n",
    "https://docs.sqlalchemy.org/en/20/\n",
    "    \n",
    "Pandas\n",
    "https://pandas.pydata.org/docs/reference/frame.html\n",
    "\n",
    "Datetime\n",
    "https://docs.python.org/3/library/datetime.html#\n",
    "\n",
    "'''"
   ]
  },
  {
   "cell_type": "code",
   "execution_count": null,
   "id": "410da128",
   "metadata": {},
   "outputs": [],
   "source": []
  }
 ],
 "metadata": {
  "kernelspec": {
   "display_name": "Python 3 (ipykernel)",
   "language": "python",
   "name": "python3"
  },
  "language_info": {
   "codemirror_mode": {
    "name": "ipython",
    "version": 3
   },
   "file_extension": ".py",
   "mimetype": "text/x-python",
   "name": "python",
   "nbconvert_exporter": "python",
   "pygments_lexer": "ipython3",
   "version": "3.9.1"
  }
 },
 "nbformat": 4,
 "nbformat_minor": 5
}
